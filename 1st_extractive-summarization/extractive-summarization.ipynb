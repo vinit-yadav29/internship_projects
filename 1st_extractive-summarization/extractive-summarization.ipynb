{
 "cells": [
  {
   "cell_type": "code",
   "execution_count": 1,
   "id": "4f242c76-997f-4120-8f40-79f75b85a6bf",
   "metadata": {},
   "outputs": [],
   "source": [
    "# Import required libraries\n",
    "import nltk\n",
    "import re\n",
    "import pickle\n",
    "import numpy as np"
   ]
  },
  {
   "cell_type": "code",
   "execution_count": 2,
   "id": "cc949a70-fde0-49c2-b624-bdd37e558785",
   "metadata": {},
   "outputs": [],
   "source": [
    "from nltk.tokenize import sent_tokenize, word_tokenize\n",
    "from nltk.corpus import stopwords\n",
    "from nltk.stem import PorterStemmer\n",
    "from sklearn.feature_extraction.text import TfidfVectorizer\n",
    "from sklearn.metrics import precision_score, recall_score, confusion_matrix\n"
   ]
  },
  {
   "cell_type": "code",
   "execution_count": 3,
   "id": "90cf1335-7ef2-428b-aa4f-76defc5e7239",
   "metadata": {},
   "outputs": [
    {
     "name": "stderr",
     "output_type": "stream",
     "text": [
      "[nltk_data] Downloading package punkt to\n",
      "[nltk_data]     C:\\Users\\ASUS\\AppData\\Roaming\\nltk_data...\n",
      "[nltk_data]   Package punkt is already up-to-date!\n",
      "[nltk_data] Downloading package stopwords to\n",
      "[nltk_data]     C:\\Users\\ASUS\\AppData\\Roaming\\nltk_data...\n",
      "[nltk_data]   Package stopwords is already up-to-date!\n"
     ]
    },
    {
     "data": {
      "text/plain": [
       "True"
      ]
     },
     "execution_count": 3,
     "metadata": {},
     "output_type": "execute_result"
    }
   ],
   "source": [
    "# Download NLTK resources (only need to run once)\n",
    "nltk.download('punkt')\n",
    "nltk.download('stopwords')"
   ]
  },
  {
   "cell_type": "code",
   "execution_count": 4,
   "id": "18a08fcb-2dc2-4e13-b3e5-8388932fb43f",
   "metadata": {},
   "outputs": [],
   "source": [
    "# Sample text to summarize (replace with any longer document)\n",
    "text = '''\n",
    "Data science is an interdisciplinary field that combines statistics, computer science, and domain expertise to extract meaningful insights from data. It involves collecting, cleaning, analyzing, and visualizing data to support decision-making and predictions. Data scientists use tools such as Python, R, SQL, and machine learning algorithms to build predictive models and uncover hidden patterns. In industries like healthcare, finance, marketing, and transportation, data science is transforming how organizations operate and deliver value. However, working with data also requires ethical considerations, such as ensuring privacy, avoiding bias, and maintaining transparency. As data continues to grow in volume and complexity, data science is becoming an essential skill in the modern digital economy.\n",
    "\n",
    "'''"
   ]
  },
  {
   "cell_type": "code",
   "execution_count": 5,
   "id": "00af529b-b321-4ed0-a98e-a2aadc114e95",
   "metadata": {},
   "outputs": [],
   "source": [
    "sentences = sent_tokenize(text)"
   ]
  },
  {
   "cell_type": "code",
   "execution_count": 6,
   "id": "d172eb9a-4050-4cc0-826f-e0e50d49c7e3",
   "metadata": {},
   "outputs": [],
   "source": [
    "stop_words = set(stopwords.words('english'))\n",
    "stemmer = PorterStemmer()\n",
    "processed_sentences = []"
   ]
  },
  {
   "cell_type": "code",
   "execution_count": 7,
   "id": "b886b006-5916-4889-be09-a430668edc67",
   "metadata": {},
   "outputs": [],
   "source": [
    "for sentence in sentences:\n",
    "    # Remove anything that's not a letter and convert to lowercase\n",
    "    cleaned = re.sub(r'[^a-zA-Z]', ' ', sentence).lower()\n",
    "    words = word_tokenize(cleaned)\n",
    "    # Remove stopwords and apply stemming\n",
    "    filtered = [stemmer.stem(word) for word in words if word not in stop_words]\n",
    "    processed_sentences.append(' '.join(filtered))\n"
   ]
  },
  {
   "cell_type": "code",
   "execution_count": 8,
   "id": "e055f501-bd39-4d9d-a82e-f1f4ca638563",
   "metadata": {},
   "outputs": [],
   "source": [
    "vectorizer = TfidfVectorizer()\n",
    "tfidf_matrix = vectorizer.fit_transform(processed_sentences).toarray()\n"
   ]
  },
  {
   "cell_type": "code",
   "execution_count": 9,
   "id": "ffa5e434-cdb0-4344-903e-a0a1cf30678a",
   "metadata": {},
   "outputs": [],
   "source": [
    "sentence_scores = np.sum(tfidf_matrix, axis=1)\n"
   ]
  },
  {
   "cell_type": "code",
   "execution_count": 10,
   "id": "d5e17d5c-9bac-4093-8303-57ddc52cd3d5",
   "metadata": {},
   "outputs": [],
   "source": [
    "num_sentences = 3\n",
    "top_indices = sentence_scores.argsort()[-num_sentences:][::-1]\n",
    "top_indices = sorted(top_indices) "
   ]
  },
  {
   "cell_type": "code",
   "execution_count": 11,
   "id": "5e4d0b74-08bd-4606-aa49-825761f19233",
   "metadata": {},
   "outputs": [],
   "source": [
    "summary = [sentences[i] for i in top_indices]"
   ]
  },
  {
   "cell_type": "code",
   "execution_count": 12,
   "id": "9120243c-66c5-48c9-9770-b0a42cdd887e",
   "metadata": {},
   "outputs": [
    {
     "name": "stdout",
     "output_type": "stream",
     "text": [
      "=== Extractive Summary ===\n",
      "\n",
      "Data scientists use tools such as Python, R, SQL, and machine learning algorithms to build predictive models and uncover hidden patterns.\n",
      "In industries like healthcare, finance, marketing, and transportation, data science is transforming how organizations operate and deliver value.\n",
      "However, working with data also requires ethical considerations, such as ensuring privacy, avoiding bias, and maintaining transparency.\n"
     ]
    }
   ],
   "source": [
    "print(\"=== Extractive Summary ===\\n\")\n",
    "for line in summary:\n",
    "    print(line)\n"
   ]
  },
  {
   "cell_type": "code",
   "execution_count": 14,
   "id": "dc1b0e83-4804-439c-91f4-df6d9da7ed2b",
   "metadata": {},
   "outputs": [
    {
     "name": "stdout",
     "output_type": "stream",
     "text": [
      "\n",
      "Model saved as tfidf_summarizer.pkl\n"
     ]
    }
   ],
   "source": [
    "model_data = {\n",
    "    'vectorizer': vectorizer,\n",
    "    'original_sentences': sentences,\n",
    "    'processed_sentences': processed_sentences\n",
    "}\n",
    "with open('tfidf_summarizer.pkl', 'wb') as file:\n",
    "    pickle.dump(model_data, file)\n",
    "\n",
    "print(\"\\nModel saved as tfidf_summarizer.pkl\")"
   ]
  },
  {
   "cell_type": "code",
   "execution_count": 15,
   "id": "dda954f6-bd44-4634-8aaa-2f3eba2577e3",
   "metadata": {},
   "outputs": [
    {
     "name": "stdout",
     "output_type": "stream",
     "text": [
      "\n",
      "Evaluation Metrics:\n",
      "Precision: 1.0\n",
      "Recall: 1.0\n",
      "Confusion Matrix:\n",
      " [[3 0]\n",
      " [0 3]]\n"
     ]
    }
   ],
   "source": [
    "y_true = [1 if i in top_indices else 0 for i in range(len(sentences))]\n",
    "threshold = np.median(sentence_scores)\n",
    "y_pred = [1 if score > threshold else 0 for score in sentence_scores]\n",
    "\n",
    "print(\"\\nEvaluation Metrics:\")\n",
    "print(\"Precision:\", precision_score(y_true, y_pred))\n",
    "print(\"Recall:\", recall_score(y_true, y_pred))\n",
    "print(\"Confusion Matrix:\\n\", confusion_matrix(y_true, y_pred))\n"
   ]
  },
  {
   "cell_type": "code",
   "execution_count": null,
   "id": "1e7eabf1-4152-4d94-9c13-14e0f4c23768",
   "metadata": {},
   "outputs": [],
   "source": []
  }
 ],
 "metadata": {
  "kernelspec": {
   "display_name": "Python [conda env:base] *",
   "language": "python",
   "name": "conda-base-py"
  },
  "language_info": {
   "codemirror_mode": {
    "name": "ipython",
    "version": 3
   },
   "file_extension": ".py",
   "mimetype": "text/x-python",
   "name": "python",
   "nbconvert_exporter": "python",
   "pygments_lexer": "ipython3",
   "version": "3.12.7"
  }
 },
 "nbformat": 4,
 "nbformat_minor": 5
}
