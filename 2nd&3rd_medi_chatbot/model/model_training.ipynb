{
 "cells": [
  {
   "cell_type": "code",
   "execution_count": 1,
   "id": "a7dceaa2-0e13-4060-9b2d-3c5ac271d946",
   "metadata": {},
   "outputs": [
    {
     "name": "stdout",
     "output_type": "stream",
     "text": [
      "📄 Scanned 11274 XML files\n",
      "✅ Loaded 16407 Q&A pairs\n",
      "✅ Loaded 16407 Q&A pairs\n",
      "\n",
      "✅ Accuracy (self-test): 98.20%\n",
      "💾 Saved model to: D:/medi_chatbot/saved_model\n"
     ]
    }
   ],
   "source": [
    "# Medical Q&A Chatbot\n",
    "\n",
    "# 1. Imports\n",
    "import os\n",
    "from chatbot_utils import load_medquad_data, QARetriever, save_model\n",
    "import numpy as np\n",
    "\n",
    "# 2. Load Data \n",
    "base_path = \"D:/medi_chatbot/dataset\"\n",
    "qa_data = load_medquad_data(base_path)\n",
    "\n",
    "print(f\"✅ Loaded {len(qa_data)} Q&A pairs\")\n",
    "\n",
    "# 🛑 Check if data loaded\n",
    "if len(qa_data) == 0:\n",
    "    raise ValueError(\"❌ No Q&A pairs loaded. Check your base_path and XML structure.\")\n",
    "\n",
    "# 3. Initialize Retriever\n",
    "retriever = QARetriever(qa_data)\n",
    "\n",
    "# 4. Evaluate\n",
    "y_true = []\n",
    "y_pred = []\n",
    "\n",
    "for i, pair in enumerate(qa_data[:500]):\n",
    "    question = pair['question']\n",
    "    expected_answer = pair['answer']\n",
    "    predicted_answer = retriever.get_answer(question)\n",
    "\n",
    "    y_true.append(expected_answer)\n",
    "    y_pred.append(predicted_answer)\n",
    "\n",
    "# 5. Simple Accuracy Calculation\n",
    "def simple_accuracy(y_true, y_pred):\n",
    "    matches = sum(\n",
    "        1 for true, pred in zip(y_true, y_pred)\n",
    "        if pred and (pred[:40] in true or true[:40] in pred)\n",
    "    )\n",
    "    return matches / len(y_true) if y_true else 0\n",
    "\n",
    "acc = simple_accuracy(y_true, y_pred)\n",
    "print(f\"\\n✅ Accuracy (self-test): {acc * 100:.2f}%\")\n",
    "\n",
    "# 6. Save Model\n",
    "model_path = \"D:/medi_chatbot/saved_model\"\n",
    "os.makedirs(model_path, exist_ok=True)\n",
    "save_model(retriever, model_path)\n",
    "print(f\"💾 Saved model to: {model_path}\")\n"
   ]
  },
  {
   "cell_type": "code",
   "execution_count": 2,
   "id": "2e62b816-774b-4812-be43-0c5b1a0d4c6a",
   "metadata": {},
   "outputs": [
    {
     "name": "stdin",
     "output_type": "stream",
     "text": [
      "\n",
      "💬 Ask a medical question (or type 'exit'):  exit\n"
     ]
    }
   ],
   "source": [
    "while True:\n",
    "    q = input(\"\\n💬 Ask a medical question (or type 'exit'): \")\n",
    "    if q.lower() == 'exit':\n",
    "        break\n",
    "    print(\"🤖\", retriever.get_answer(q))\n"
   ]
  },
  {
   "cell_type": "code",
   "execution_count": null,
   "id": "8c5bb2a1-618f-4af4-b4e5-a05439f261c3",
   "metadata": {},
   "outputs": [],
   "source": []
  }
 ],
 "metadata": {
  "kernelspec": {
   "display_name": "Python 3 (ipykernel)",
   "language": "python",
   "name": "python3"
  },
  "language_info": {
   "codemirror_mode": {
    "name": "ipython",
    "version": 3
   },
   "file_extension": ".py",
   "mimetype": "text/x-python",
   "name": "python",
   "nbconvert_exporter": "python",
   "pygments_lexer": "ipython3",
   "version": "3.13.4"
  }
 },
 "nbformat": 4,
 "nbformat_minor": 5
}
